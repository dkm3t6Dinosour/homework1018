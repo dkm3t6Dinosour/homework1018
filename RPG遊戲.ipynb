{
 "cells": [
  {
   "cell_type": "code",
   "execution_count": 34,
   "id": "dcad9879",
   "metadata": {},
   "outputs": [
    {
     "name": "stdout",
     "output_type": "stream",
     "text": [
      "裝備\n",
      "1 索仔\n",
      "6 火把\n",
      "42 銀角仔\n",
      "1 刀仔\n",
      "12 箭\n",
      "裝備總總數: 62\n"
     ]
    }
   ],
   "source": [
    "#練習一\n",
    "inventory={'索仔':1, '火把':6, '銀角仔':42, '刀仔':1, '箭': 12}\n",
    "\n",
    "print('裝備')\n",
    "for value,key in inventory.items():\n",
    "             \n",
    "             print(key, value)\n",
    "\n",
    "value=(1,6,42,1,12)\n",
    "print('裝備總總數:',sum(value))            "
   ]
  },
  {
   "cell_type": "code",
   "execution_count": 33,
   "id": "2faee00b",
   "metadata": {},
   "outputs": [
    {
     "name": "stdout",
     "output_type": "stream",
     "text": [
      "裝備\n",
      "1 索仔\n",
      "6 火把\n",
      "45 銀角仔\n",
      "2 刀仔\n",
      "12 箭\n",
      "1 紅寶石\n",
      "裝備總數: 67\n"
     ]
    }
   ],
   "source": [
    "#練習二\n",
    "def addToInventory(inventory, dragonloot):\n",
    "    \n",
    "    update_inventory=inventory.copy()\n",
    "    \n",
    "    for item in dragonloot:\n",
    "        \n",
    "        update_inventory[item]=update_inventory.get(item,0)+1\n",
    "\n",
    "    return update_inventory\n",
    "\n",
    "\n",
    "inventory={'索仔':1, '火把':6, '銀角仔':42, '刀仔':1, '箭': 12}\n",
    "\n",
    "\n",
    "dragonLoot=['銀角仔', '刀仔', '銀角仔', '銀角仔', '紅寶石']\n",
    "\n",
    "update_inventory=addToInventory(inventory,dragonLoot)\n",
    "\n",
    "print('裝備')\n",
    "for key,value in update_inventory.items():\n",
    "    print(value, key)\n",
    "print('裝備總數:', sum(update_inventory[x] for x in update_inventory))"
   ]
  },
  {
   "cell_type": "code",
   "execution_count": null,
   "id": "20357295",
   "metadata": {},
   "outputs": [],
   "source": []
  },
  {
   "cell_type": "code",
   "execution_count": null,
   "id": "20d51eb7",
   "metadata": {},
   "outputs": [],
   "source": []
  }
 ],
 "metadata": {
  "kernelspec": {
   "display_name": "Python 3 (ipykernel)",
   "language": "python",
   "name": "python3"
  },
  "language_info": {
   "codemirror_mode": {
    "name": "ipython",
    "version": 3
   },
   "file_extension": ".py",
   "mimetype": "text/x-python",
   "name": "python",
   "nbconvert_exporter": "python",
   "pygments_lexer": "ipython3",
   "version": "3.11.4"
  }
 },
 "nbformat": 4,
 "nbformat_minor": 5
}
